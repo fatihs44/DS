{
 "cells": [
  {
   "cell_type": "markdown",
   "id": "e24845ff",
   "metadata": {},
   "source": [
    "### Source\n",
    "\n",
    "https://www.kaggle.com/code/gusthema/house-prices-prediction-using-tfdf\n"
   ]
  },
  {
   "cell_type": "code",
   "execution_count": null,
   "id": "a3f21354",
   "metadata": {},
   "outputs": [],
   "source": [
    "pip install xgboost"
   ]
  },
  {
   "cell_type": "code",
   "execution_count": null,
   "id": "20d13731",
   "metadata": {},
   "outputs": [],
   "source": [
    "pip uninstall tensorflow_decision_forests"
   ]
  },
  {
   "cell_type": "code",
   "execution_count": null,
   "id": "96e749a7",
   "metadata": {},
   "outputs": [],
   "source": [
    "pip uninstall tensorflow"
   ]
  },
  {
   "cell_type": "code",
   "execution_count": null,
   "id": "23855d48",
   "metadata": {},
   "outputs": [],
   "source": [
    "pip install tensorflow==2.5.1"
   ]
  },
  {
   "cell_type": "code",
   "execution_count": null,
   "id": "bb162977",
   "metadata": {},
   "outputs": [],
   "source": [
    "pip install tensorflow_decision_forests"
   ]
  },
  {
   "cell_type": "code",
   "execution_count": null,
   "id": "905fd6e8",
   "metadata": {},
   "outputs": [],
   "source": [
    "import pandas as pd\n",
    "import seaborn as sns\n",
    "import matplotlib.pyplot as plt"
   ]
  },
  {
   "cell_type": "code",
   "execution_count": null,
   "id": "30abc19e",
   "metadata": {},
   "outputs": [],
   "source": [
    "train_file_path = \"C:/Users/FatihS/Desktop/DataScience/Kaggle/House Prices - Advanced Regression/train.csv\"\n",
    "dataset_df = pd.read_csv(train_file_path)\n",
    "\n",
    "print(\"Full train dataset shape is {}\".format(dataset_df.shape))"
   ]
  },
  {
   "cell_type": "code",
   "execution_count": null,
   "id": "6f40deb6",
   "metadata": {},
   "outputs": [],
   "source": [
    "dataset_df = dataset_df.drop('Id', axis=1)\n",
    "dataset_df.head()"
   ]
  },
  {
   "cell_type": "markdown",
   "id": "265162a3",
   "metadata": {},
   "source": [
    "### EDA"
   ]
  },
  {
   "cell_type": "code",
   "execution_count": null,
   "id": "0df1580b",
   "metadata": {},
   "outputs": [],
   "source": [
    "dataset_df.info()"
   ]
  },
  {
   "cell_type": "markdown",
   "id": "708b1ffd",
   "metadata": {},
   "source": [
    "#### Value counts are examined"
   ]
  },
  {
   "cell_type": "code",
   "execution_count": null,
   "id": "ed91b4d2",
   "metadata": {},
   "outputs": [],
   "source": [
    "for column in dataset_df:\n",
    "    print(dataset_df[column].value_counts())\n",
    "    print()"
   ]
  },
  {
   "cell_type": "code",
   "execution_count": null,
   "id": "1a9f48e6",
   "metadata": {},
   "outputs": [],
   "source": [
    "print(dataset_df['SalePrice'].describe())\n",
    "plt.figure(figsize=(9, 8))"
   ]
  },
  {
   "cell_type": "code",
   "execution_count": null,
   "id": "8d721545",
   "metadata": {},
   "outputs": [],
   "source": [
    "sns.histplot(dataset_df['SalePrice'], kde='True')"
   ]
  },
  {
   "cell_type": "code",
   "execution_count": null,
   "id": "469281f0",
   "metadata": {},
   "outputs": [],
   "source": [
    "df_num = dataset_df.select_dtypes(['float64', 'int64'])\n"
   ]
  },
  {
   "cell_type": "code",
   "execution_count": null,
   "id": "a8587402",
   "metadata": {},
   "outputs": [],
   "source": [
    "df_num.hist(figsize=(16, 20), bins=50, xlabelsize=8, ylabelsize=8);"
   ]
  },
  {
   "cell_type": "code",
   "execution_count": null,
   "id": "fc1adbbd",
   "metadata": {},
   "outputs": [],
   "source": [
    "import xgboost as xgb\n",
    "from sklearn.model_selection import cross_val_score, KFold\n",
    "from sklearn.metrics import mean_squared_error, mean_absolute_error, mean_absolute_percentage_error\n",
    "\n",
    "X = dataset_df.drop('SalePrice', axis=1)\n",
    "y = dataset_df['SalePrice']\n",
    "\n",
    "# Define the XGBoost model\n",
    "model = xgb.XGBRegressor(objective='reg:squarederror', \n",
    "                         n_estimators=100, \n",
    "                         learning_rate=0.1, \n",
    "                         max_depth=5, \n",
    "                         random_state=42)\n",
    "\n",
    "# Define the cross-validation method (5-fold cross-validation)\n",
    "kf = KFold(n_splits=5, shuffle=True, random_state=42)\n",
    "\n",
    "# Perform cross-validation and calculate the mean RMSE\n",
    "cv_scores = cross_val_score(model, X, y, cv=kf, scoring='neg_mean_squared_error')\n",
    "rmse_scores = np.sqrt(-cv_scores)\n",
    "\n",
    "# Print the results\n",
    "print(f'Cross-validated RMSE: {rmse_scores.mean():.4f} ± {rmse_scores.std():.4f}')\n"
   ]
  },
  {
   "cell_type": "code",
   "execution_count": null,
   "id": "9e5d7aa8",
   "metadata": {},
   "outputs": [],
   "source": [
    "pip show xgboost\n"
   ]
  },
  {
   "cell_type": "code",
   "execution_count": null,
   "id": "70db3c83",
   "metadata": {},
   "outputs": [],
   "source": [
    "conda info --envs\n"
   ]
  },
  {
   "cell_type": "code",
   "execution_count": 1,
   "id": "48fc5d4a",
   "metadata": {},
   "outputs": [
    {
     "name": "stdout",
     "output_type": "stream",
     "text": [
      "^C\n",
      "\n",
      "Note: you may need to restart the kernel to use updated packages.\n"
     ]
    }
   ],
   "source": [
    "conda install xgboost\n"
   ]
  },
  {
   "cell_type": "code",
   "execution_count": null,
   "id": "0ee75282",
   "metadata": {},
   "outputs": [],
   "source": []
  }
 ],
 "metadata": {
  "kernelspec": {
   "display_name": "Python 3 (ipykernel)",
   "language": "python",
   "name": "python3"
  },
  "language_info": {
   "codemirror_mode": {
    "name": "ipython",
    "version": 3
   },
   "file_extension": ".py",
   "mimetype": "text/x-python",
   "name": "python",
   "nbconvert_exporter": "python",
   "pygments_lexer": "ipython3",
   "version": "3.9.7"
  }
 },
 "nbformat": 4,
 "nbformat_minor": 5
}
